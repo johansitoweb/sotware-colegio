{
  "nbformat": 4,
  "nbformat_minor": 0,
  "metadata": {
    "colab": {
      "provenance": [],
      "authorship_tag": "ABX9TyMTQG3nk6TuWKqaNd/JdaH0",
      "include_colab_link": true
    },
    "kernelspec": {
      "name": "python3",
      "display_name": "Python 3"
    },
    "language_info": {
      "name": "python"
    }
  },
  "cells": [
    {
      "cell_type": "markdown",
      "metadata": {
        "id": "view-in-github",
        "colab_type": "text"
      },
      "source": [
        "<a href=\"https://colab.research.google.com/github/johansitoweb/sotware-colegio/blob/main/dashboard%20tinker%20.ipynb\" target=\"_parent\"><img src=\"https://colab.research.google.com/assets/colab-badge.svg\" alt=\"Open In Colab\"/></a>"
      ]
    },
    {
      "cell_type": "code",
      "execution_count": 17,
      "metadata": {
        "id": "jsaK8d1G6tUW",
        "colab": {
          "base_uri": "https://localhost:8080/"
        },
        "collapsed": true,
        "outputId": "543d7592-b5fa-4349-9137-e1def48d2ef2"
      },
      "outputs": [
        {
          "output_type": "stream",
          "name": "stdout",
          "text": [
            "Requirement already satisfied: pyvirtualdisplay in /usr/local/lib/python3.10/dist-packages (3.0)\n",
            "Hit:1 https://cloud.r-project.org/bin/linux/ubuntu jammy-cran40/ InRelease\n",
            "Hit:2 https://developer.download.nvidia.com/compute/cuda/repos/ubuntu2204/x86_64  InRelease\n",
            "Hit:3 http://security.ubuntu.com/ubuntu jammy-security InRelease\n",
            "Hit:4 http://archive.ubuntu.com/ubuntu jammy InRelease\n",
            "Hit:5 http://archive.ubuntu.com/ubuntu jammy-updates InRelease\n",
            "Hit:6 https://r2u.stat.illinois.edu/ubuntu jammy InRelease\n",
            "Hit:7 http://archive.ubuntu.com/ubuntu jammy-backports InRelease\n",
            "Hit:8 https://ppa.launchpadcontent.net/deadsnakes/ppa/ubuntu jammy InRelease\n",
            "Hit:9 https://ppa.launchpadcontent.net/graphics-drivers/ppa/ubuntu jammy InRelease\n",
            "Hit:10 https://ppa.launchpadcontent.net/ubuntugis/ppa/ubuntu jammy InRelease\n",
            "Reading package lists... Done\n",
            "W: Skipping acquire of configured file 'main/source/Sources' as repository 'https://r2u.stat.illinois.edu/ubuntu jammy InRelease' does not seem to provide it (sources.list entry misspelt?)\n",
            "Reading package lists... Done\n",
            "Building dependency tree... Done\n",
            "Reading state information... Done\n",
            "xvfb is already the newest version (2:21.1.4-2ubuntu1.7~22.04.12).\n",
            "0 upgraded, 0 newly installed, 0 to remove and 58 not upgraded.\n",
            "ssh: Could not resolve hostname [server_address]: Name or service not known\n"
          ]
        },
        {
          "output_type": "execute_result",
          "data": {
            "text/plain": [
              "65280"
            ]
          },
          "metadata": {},
          "execution_count": 17
        }
      ],
      "source": [
        "!pip install pyvirtualdisplay\n",
        "\n",
        "from pyvirtualdisplay import Display\n",
        "import tkinter as tk\n",
        "from tkinter import ttk\n",
        "!apt-get update\n",
        "!apt-get install xvfb\n",
        "from IPython import get_ipython\n",
        "\n",
        "get_ipython().system('ssh -X [username]@[server_address]')\n",
        "import os\n",
        "os.system('ssh -X [username]@[server_address]')"
      ]
    },
    {
      "cell_type": "code",
      "source": [
        "display = Display(visible=0, size=(900, 600))\n",
        "display.start()"
      ],
      "metadata": {
        "colab": {
          "base_uri": "https://localhost:8080/"
        },
        "id": "S6XDZA8p-OX0",
        "outputId": "2c3a3060-ecbb-4f70-b9c2-431f808222c5"
      },
      "execution_count": 18,
      "outputs": [
        {
          "output_type": "execute_result",
          "data": {
            "text/plain": [
              "<pyvirtualdisplay.display.Display at 0x7cc930701ea0>"
            ]
          },
          "metadata": {},
          "execution_count": 18
        }
      ]
    },
    {
      "cell_type": "code",
      "source": [
        "root = tk.Tk()\n",
        "root.title(\"Vista del prpgrama\")\n",
        "root.geometry(\"900x600\")\n",
        "root.configure(bg=\"white\")"
      ],
      "metadata": {
        "id": "86Cn5YNF-kZ0"
      },
      "execution_count": 19,
      "outputs": []
    },
    {
      "cell_type": "code",
      "source": [
        "def show_message(message):\n",
        "  message_label.config(text=message)"
      ],
      "metadata": {
        "id": "k4OxceKD-qFk"
      },
      "execution_count": 20,
      "outputs": []
    },
    {
      "cell_type": "code",
      "source": [
        "cabeza  = tk.Frame(root, bg=\"white\",height=50)\n",
        "cabeza.pack(side=\"top\",fill=\"x\")"
      ],
      "metadata": {
        "id": "Cta7dalOAgvb"
      },
      "execution_count": 21,
      "outputs": []
    },
    {
      "cell_type": "code",
      "source": [
        "from typing_extensions import Text\n",
        "cabeza_label = tk.Label(\n",
        "    cabeza, text=\"Vista del programa\", bg=\"white\", font=(\"Arial\", 20)\n",
        ")\n",
        "cabeza_label.pack(pady=10)\n"
      ],
      "metadata": {
        "id": "jjKL8EOzCqw0"
      },
      "execution_count": 22,
      "outputs": []
    },
    {
      "cell_type": "code",
      "source": [
        "tk.Frame(root, bg=\"black\").pack(fill=\"x\", pady=10, padx=20)"
      ],
      "metadata": {
        "id": "2wwB-Y5ID92L"
      },
      "execution_count": 23,
      "outputs": []
    },
    {
      "cell_type": "code",
      "source": [
        "metrics_frame = tk.Frame(root, bg=\"white\")\n",
        "metrics_frame.pack()\n",
        "attendance_frame = tk.Frame(metrics_frame, bg=\"white\", relief=\"solid\", bd=1)\n",
        "attendance_frame.grid(row=0, column=0, padx=10, pady=5)\n",
        "attendance_label = tk.Label(\n",
        "    attendance_frame, text=\"Asistencia\\n95%\", font=(\"Arial\", 14), bg=\"white\")"
      ],
      "metadata": {
        "id": "twPESTNAFzAX"
      },
      "execution_count": 24,
      "outputs": []
    },
    {
      "cell_type": "code",
      "source": [
        "grades_frame = tk.Frame(metrics_frame, bg=\"white\", relief=\"solid\", bd=1)\n",
        "grades_frame.grid(row=0, column=1, padx=10, pady=5)\n",
        "grades_label = tk.Label(\n",
        "    grades_frame, text=\"Calificaciones\\nPromedio: 90\", font=(\"Arial\", 14), bg=\"white\"\n",
        ")\n",
        "grades_label.pack(padx=20, pady=20)"
      ],
      "metadata": {
        "id": "5vzivKvDGnzh"
      },
      "execution_count": 25,
      "outputs": []
    },
    {
      "cell_type": "code",
      "source": [
        "events_frame = tk.Frame(metrics_frame, bg=\"white\", relief=\"solid\", bd=1)\n",
        "events_frame.grid(row=0, column=2, padx=10, pady=5)\n",
        "events_label = tk.Label(\n",
        "    events_frame,\n",
        "    text=\"Próximos Eventos\\n12/12: Entrega Proyecto\",\n",
        "    font=(\"Arial\", 14),\n",
        "    bg=\"white\",\n",
        ")\n",
        "events_label.pack(padx=20, pady=20)\n"
      ],
      "metadata": {
        "id": "UxauiY4_Gv7q"
      },
      "execution_count": 26,
      "outputs": []
    },
    {
      "cell_type": "code",
      "source": [
        "shortcuts_frame = tk.Frame(root, bg=\"white\")\n",
        "shortcuts_frame.pack()\n",
        "buttons = [\n",
        "    (\"Ver Calificaciones Detalladas\", lambda: show_message(\"Accediendo a calificaciones...\")),\n",
        "    (\"Registro de Asistencia\", lambda: show_message(\"Accediendo a asistencias...\")),\n",
        "    (\"Gestión de Tareas\", lambda: show_message(\"Accediendo a tareas...\")),\n",
        "    (\"Contacto con Maestros\", lambda: show_message(\"Abriendo mensajes...\")),\n",
        "]\n",
        "\n",
        "for text, command in buttons:\n",
        "    button = tk.Button(shortcuts_frame, text=text, command=command)\n",
        "    button.pack(side=\"left\", padx=10, pady=5)"
      ],
      "metadata": {
        "id": "YtYqiys6HWDi"
      },
      "execution_count": 27,
      "outputs": []
    },
    {
      "source": [
        "shortcuts_frame = tk.Frame(root, bg=\"white\")\n",
        "shortcuts_frame.pack()\n",
        "buttons = [\n",
        "    (\"Ver Calificaciones del semillero digital Detalladas\", lambda: show_message(\"Accediendo a calificaciones...\")),\n",
        "    (\"Registro de Asistencia de los estudiantes \", lambda: show_message(\"Accediendo a asistencias...\")),\n",
        "    (\"organizacion de Tareas \", lambda: show_message(\"Accediendo a tareas...\")),\n",
        "    (\"Contacto con profesores\", lambda: show_message(\"Abriendo mensajes...\")),\n",
        "]\n",
        "\n",
        "\n",
        "for i, (text, command) in enumerate(buttons):\n",
        "    btn = tk.Button(\n",
        "        shortcuts_frame,\n",
        "        text=text,\n",
        "        command=command,\n",
        "        font=(\"Arial\", 12),\n",
        "        bg=\"#2ecc71\",\n",
        "        fg=\"white\",\n",
        "        width=25,\n",
        "    )\n",
        "    btn.grid(row=i // 2, column=i % 2, padx=10, pady=10)"
      ],
      "cell_type": "code",
      "metadata": {
        "id": "63Bg3Ig6IawB"
      },
      "execution_count": 28,
      "outputs": []
    },
    {
      "cell_type": "code",
      "source": [
        "root.mainloop()\n"
      ],
      "metadata": {
        "id": "-8kUNYSHIn49"
      },
      "execution_count": null,
      "outputs": []
    }
  ]
}